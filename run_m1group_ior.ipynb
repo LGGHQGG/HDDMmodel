{
 "cells": [
  {
   "cell_type": "markdown",
   "id": "e1bf2a99-f037-4dd2-bd4a-2736013821c1",
   "metadata": {},
   "source": [
    "# Load package"
   ]
  },
  {
   "cell_type": "code",
   "execution_count": 1,
   "id": "125e4a55-2f1f-4652-b00b-15d3a05dc045",
   "metadata": {},
   "outputs": [
    {
     "name": "stdout",
     "output_type": "stream",
     "text": [
      "The current HDDM version is:  0.9.8RC\n",
      "The current kabuki version is:  0.6.5RC3\n",
      "The current PyMC version is:  2.3.8\n",
      "The current ArviZ version is:  0.14.0\n"
     ]
    }
   ],
   "source": [
    "%matplotlib inline\n",
    "\n",
    "# General packages for system, time, etc\n",
    "import os, time, csv, sys\n",
    "import datetime\n",
    "from datetime import date\n",
    "import glob\n",
    "\n",
    "# scitnific computing and plotting\n",
    "import numpy as np\n",
    "import pandas as pd\n",
    "import xarray as xr\n",
    "import matplotlib.pyplot as plt\n",
    "import seaborn as sns\n",
    "\n",
    "# HDDM related packages\n",
    "import pymc as pm\n",
    "import hddm\n",
    "import kabuki\n",
    "import arviz as az\n",
    "print(\"The current HDDM version is: \", hddm.__version__)\n",
    "print(\"The current kabuki version is: \", kabuki.__version__)\n",
    "print(\"The current PyMC version is: \", pm.__version__)\n",
    "print(\"The current ArviZ version is: \", az.__version__)\n",
    "\n",
    "# parallel processing related\n",
    "from p_tqdm import p_map\n",
    "from functools import partial\n",
    "\n",
    "from sklearn.metrics import r2_score"
   ]
  },
  {
   "cell_type": "markdown",
   "id": "39331af9-aa30-4ac1-93c3-4f5c3de47996",
   "metadata": {},
   "source": [
    "# Load data"
   ]
  },
  {
   "cell_type": "code",
   "execution_count": 2,
   "id": "4b2344c2-01f5-4d04-953b-8fc0ef4dbe78",
   "metadata": {},
   "outputs": [],
   "source": [
    "cpath=os.getcwd()\n",
    "lname=cpath+'/ior_stroop_alldata.csv'\n",
    "data=pd.read_csv(lname)\n",
    "data['rt']=data['rt']/1000\n",
    "data.rename(columns={\"sub_idx\": \"subj_idx\"}, inplace=True)"
   ]
  },
  {
   "cell_type": "markdown",
   "id": "1e2ca043-a152-4749-9fe7-a84250d184f8",
   "metadata": {},
   "source": [
    "# Run model 1"
   ]
  },
  {
   "cell_type": "code",
   "execution_count": 3,
   "id": "dbd07a5f-04c6-48db-8f35-10291d846550",
   "metadata": {},
   "outputs": [],
   "source": [
    "from IOR_stroop_model_utils import m1_id"
   ]
  },
  {
   "cell_type": "code",
   "execution_count": 4,
   "id": "0722dee2-df2a-45fb-b73f-4249e2010c9f",
   "metadata": {},
   "outputs": [],
   "source": [
    "nsample=10000\n",
    "burns=2000\n",
    "thins=2\n",
    "chains = 4"
   ]
  },
  {
   "cell_type": "code",
   "execution_count": null,
   "id": "4a654be7-c076-4124-8ceb-7f07cc04f6b6",
   "metadata": {},
   "outputs": [],
   "source": [
    "%%time\n",
    "\n",
    "file_names = glob.glob(\"m1_id_tmp\" + \"_chain_*[!db]\", recursive=False)\n",
    "\n",
    "if file_names:\n",
    "    file_names = sorted(file_names, key=lambda x: x[-1]) # sort filenames by chain ID\n",
    "    m1res = []\n",
    "    for fname in file_names:\n",
    "        print('current loading: ', fname, '\\n')\n",
    "        m1res.append(hddm.load(fname))\n",
    "else:\n",
    "    m1res = p_map(partial(m1_id, df=data, samples=nsample, burn=burns, thin=thins,save_name=\"m1_id_tmp\"), range(chains))"
   ]
  },
  {
   "cell_type": "markdown",
   "id": "4fb79f77-7672-4395-8098-e48d1ec03c31",
   "metadata": {
    "tags": []
   },
   "source": [
    "# 2.Load Model"
   ]
  },
  {
   "cell_type": "code",
   "execution_count": 6,
   "id": "30d3399b-0eee-4205-b288-a0cd889cc72b",
   "metadata": {},
   "outputs": [],
   "source": [
    "file_names = glob.glob(\"m1_id_tmp\" + \"_chain_*[!db]\", recursive=False)\n",
    "m1=[]\n",
    "for f in file_names:\n",
    "    m1.append(hddm.load(f))"
   ]
  },
  {
   "cell_type": "markdown",
   "id": "1f948556-56ba-4623-b40f-440e809e935f",
   "metadata": {
    "tags": []
   },
   "source": [
    "# 3.Model convergence"
   ]
  },
  {
   "cell_type": "markdown",
   "id": "d4ecab2c-6912-430c-8b72-20789bc87954",
   "metadata": {},
   "source": [
    "#### R-hat 指标检查模型是否拟合好了，所有参数的R-hat<1.01 则表明模型拟合好了"
   ]
  },
  {
   "cell_type": "code",
   "execution_count": null,
   "id": "655d565f-e32a-4567-a309-8258e27d6de5",
   "metadata": {},
   "outputs": [],
   "source": [
    "from kabuki.analyze import gelman_rubin\n",
    "gelman_rubin(m1)"
   ]
  },
  {
   "cell_type": "code",
   "execution_count": 8,
   "id": "199a2476-98f1-48aa-83de-c9afae62dde7",
   "metadata": {},
   "outputs": [
    {
     "data": {
      "text/plain": [
       "1.0069854363151742"
      ]
     },
     "execution_count": 8,
     "metadata": {},
     "output_type": "execute_result"
    }
   ],
   "source": [
    "np.max(list(gelman_rubin(m1).values()))"
   ]
  },
  {
   "cell_type": "markdown",
   "id": "f174a3ba-701f-456a-8e86-7d24a320b834",
   "metadata": {},
   "source": [
    "#### combine these three models to get a better approximation of the posterior distribution."
   ]
  },
  {
   "cell_type": "code",
   "execution_count": 9,
   "id": "45c5a8b0-ce92-4942-a161-fb090d82fc32",
   "metadata": {},
   "outputs": [],
   "source": [
    "# Combine the models we ran to test for convergence.\n",
    "m = kabuki.utils.concat_models(m1)"
   ]
  },
  {
   "cell_type": "markdown",
   "id": "08d3acb9-9525-497f-aaef-147090d2c054",
   "metadata": {},
   "source": [
    "### visual trace"
   ]
  },
  {
   "cell_type": "code",
   "execution_count": null,
   "id": "56eeec74-28b0-44e3-953c-c7d2adb94a75",
   "metadata": {},
   "outputs": [],
   "source": [
    "m.plot_posteriors(save=True)"
   ]
  },
  {
   "cell_type": "code",
   "execution_count": 10,
   "id": "adc92cda-3ca2-49eb-8f44-a0172c65a2a8",
   "metadata": {},
   "outputs": [
    {
     "data": {
      "text/plain": [
       "-22030.426364916802"
      ]
     },
     "execution_count": 10,
     "metadata": {},
     "output_type": "execute_result"
    }
   ],
   "source": [
    "m.dic"
   ]
  },
  {
   "cell_type": "code",
   "execution_count": null,
   "id": "bdc0a878-969c-4da3-af03-919eb861856c",
   "metadata": {},
   "outputs": [],
   "source": []
  },
  {
   "cell_type": "markdown",
   "id": "9dcc7eb1-6387-420f-8600-16646f72cea5",
   "metadata": {
    "tags": []
   },
   "source": [
    "# 4.Compute R^2"
   ]
  },
  {
   "cell_type": "code",
   "execution_count": 11,
   "id": "67339d13-eefd-4d1c-bdd6-5e31568625ec",
   "metadata": {},
   "outputs": [],
   "source": [
    "scsv=pd.DataFrame([m.values])\n",
    "scsv.to_csv('iorstroop_m1_group_model_param.csv')"
   ]
  },
  {
   "cell_type": "code",
   "execution_count": 12,
   "id": "8c827bc0-0064-4b1c-af10-85d82d51fca8",
   "metadata": {},
   "outputs": [],
   "source": [
    "#modelt_1.csv\n",
    "filename = 'iorstroop_m1_group_model_param.csv'\n",
    "model_excel = pd.read_csv(filename)\n",
    "#simulate data for group ourside\n",
    "ename=['semantic_cue','semantic_uncue','response_cue','response_uncue','netural_cue','netural_uncue']\n",
    "pname=['v','v_std','a','a_std','t','t_std','sv','st']\n",
    "params={}\n",
    "for e in ename:\n",
    "    params[e]={}\n",
    "    for p in range(len(pname)):\n",
    "        if p==0 or p==2 or p==4:\n",
    "            this_name=pname[p]+'('+e+')'\n",
    "        else:\n",
    "            this_name=pname[p]  \n",
    "        params[e][pname[p]]=model_excel[this_name][0]\n",
    "        params[e]['z']=0.5"
   ]
  },
  {
   "cell_type": "markdown",
   "id": "7be70b28-cc16-4a40-8529-e4e7eb7fd588",
   "metadata": {},
   "source": [
    "## false & real data"
   ]
  },
  {
   "cell_type": "code",
   "execution_count": 13,
   "id": "e2b57efd-6d47-4f07-8dfe-d862ae45ad50",
   "metadata": {},
   "outputs": [],
   "source": [
    "simulated = hddm.generate.gen_rand_data(params,size=10000)\n",
    "simulated_data=simulated[0]"
   ]
  },
  {
   "cell_type": "code",
   "execution_count": 14,
   "id": "6d8ba6b6-aaf7-435b-be91-2a7cef750000",
   "metadata": {},
   "outputs": [
    {
     "data": {
      "text/html": [
       "<div>\n",
       "<style scoped>\n",
       "    .dataframe tbody tr th:only-of-type {\n",
       "        vertical-align: middle;\n",
       "    }\n",
       "\n",
       "    .dataframe tbody tr th {\n",
       "        vertical-align: top;\n",
       "    }\n",
       "\n",
       "    .dataframe thead th {\n",
       "        text-align: right;\n",
       "    }\n",
       "</style>\n",
       "<table border=\"1\" class=\"dataframe\">\n",
       "  <thead>\n",
       "    <tr style=\"text-align: right;\">\n",
       "      <th></th>\n",
       "      <th>rt</th>\n",
       "      <th>response</th>\n",
       "      <th>subj_idx</th>\n",
       "      <th>condition</th>\n",
       "    </tr>\n",
       "  </thead>\n",
       "  <tbody>\n",
       "    <tr>\n",
       "      <th>0</th>\n",
       "      <td>0.693231</td>\n",
       "      <td>1.0</td>\n",
       "      <td>0</td>\n",
       "      <td>semantic_cue</td>\n",
       "    </tr>\n",
       "    <tr>\n",
       "      <th>1</th>\n",
       "      <td>0.613553</td>\n",
       "      <td>1.0</td>\n",
       "      <td>0</td>\n",
       "      <td>semantic_cue</td>\n",
       "    </tr>\n",
       "    <tr>\n",
       "      <th>2</th>\n",
       "      <td>0.729545</td>\n",
       "      <td>1.0</td>\n",
       "      <td>0</td>\n",
       "      <td>semantic_cue</td>\n",
       "    </tr>\n",
       "    <tr>\n",
       "      <th>3</th>\n",
       "      <td>1.064497</td>\n",
       "      <td>1.0</td>\n",
       "      <td>0</td>\n",
       "      <td>semantic_cue</td>\n",
       "    </tr>\n",
       "    <tr>\n",
       "      <th>4</th>\n",
       "      <td>0.544046</td>\n",
       "      <td>1.0</td>\n",
       "      <td>0</td>\n",
       "      <td>semantic_cue</td>\n",
       "    </tr>\n",
       "    <tr>\n",
       "      <th>...</th>\n",
       "      <td>...</td>\n",
       "      <td>...</td>\n",
       "      <td>...</td>\n",
       "      <td>...</td>\n",
       "    </tr>\n",
       "    <tr>\n",
       "      <th>59995</th>\n",
       "      <td>0.513235</td>\n",
       "      <td>1.0</td>\n",
       "      <td>0</td>\n",
       "      <td>netural_uncue</td>\n",
       "    </tr>\n",
       "    <tr>\n",
       "      <th>59996</th>\n",
       "      <td>0.650531</td>\n",
       "      <td>1.0</td>\n",
       "      <td>0</td>\n",
       "      <td>netural_uncue</td>\n",
       "    </tr>\n",
       "    <tr>\n",
       "      <th>59997</th>\n",
       "      <td>0.524295</td>\n",
       "      <td>1.0</td>\n",
       "      <td>0</td>\n",
       "      <td>netural_uncue</td>\n",
       "    </tr>\n",
       "    <tr>\n",
       "      <th>59998</th>\n",
       "      <td>0.686354</td>\n",
       "      <td>1.0</td>\n",
       "      <td>0</td>\n",
       "      <td>netural_uncue</td>\n",
       "    </tr>\n",
       "    <tr>\n",
       "      <th>59999</th>\n",
       "      <td>0.583484</td>\n",
       "      <td>1.0</td>\n",
       "      <td>0</td>\n",
       "      <td>netural_uncue</td>\n",
       "    </tr>\n",
       "  </tbody>\n",
       "</table>\n",
       "<p>60000 rows × 4 columns</p>\n",
       "</div>"
      ],
      "text/plain": [
       "             rt  response  subj_idx      condition\n",
       "0      0.693231       1.0         0   semantic_cue\n",
       "1      0.613553       1.0         0   semantic_cue\n",
       "2      0.729545       1.0         0   semantic_cue\n",
       "3      1.064497       1.0         0   semantic_cue\n",
       "4      0.544046       1.0         0   semantic_cue\n",
       "...         ...       ...       ...            ...\n",
       "59995  0.513235       1.0         0  netural_uncue\n",
       "59996  0.650531       1.0         0  netural_uncue\n",
       "59997  0.524295       1.0         0  netural_uncue\n",
       "59998  0.686354       1.0         0  netural_uncue\n",
       "59999  0.583484       1.0         0  netural_uncue\n",
       "\n",
       "[60000 rows x 4 columns]"
      ]
     },
     "execution_count": 14,
     "metadata": {},
     "output_type": "execute_result"
    }
   ],
   "source": [
    "simulated_data"
   ]
  },
  {
   "cell_type": "code",
   "execution_count": 15,
   "id": "13fb5b8c-702a-44e5-a91e-ef8acbf4d5ad",
   "metadata": {},
   "outputs": [],
   "source": [
    "fdata,rdata={},{}\n",
    "for e in ename:\n",
    "    fdata[e]=simulated_data[simulated_data['condition']==e]\n",
    "    rdata[e]=data[data['expconds']==e]"
   ]
  },
  {
   "cell_type": "code",
   "execution_count": 16,
   "id": "64bf1ec8-9919-4562-b0b8-99106da0684b",
   "metadata": {},
   "outputs": [],
   "source": [
    "fdata_rt,rdata_rt={},{}\n",
    "fdata_acc,rdata_acc={},{}\n",
    "for e in ename:\n",
    "    fdata_rt[e] = np.mean(fdata[e]['rt'])\n",
    "    rdata_rt[e] = pd.DataFrame(rdata[e]['rt']).mean()\n",
    "    fdata_acc[e]=float(np.sum(fdata[e]['response']==1))/len(fdata[e])\n",
    "    rdata_acc[e]=float(np.sum(rdata[e]['response']==1))/len(rdata[e])"
   ]
  },
  {
   "cell_type": "code",
   "execution_count": 24,
   "id": "da44078d-2794-48f2-b57a-d613342bf5c4",
   "metadata": {},
   "outputs": [
    {
     "data": {
      "text/plain": [
       "6"
      ]
     },
     "execution_count": 24,
     "metadata": {},
     "output_type": "execute_result"
    }
   ],
   "source": [
    "len(rd_r)"
   ]
  },
  {
   "cell_type": "code",
   "execution_count": 25,
   "id": "361f5949-f2a4-4bcf-86e9-380623a201b1",
   "metadata": {},
   "outputs": [
    {
     "data": {
      "text/plain": [
       "6"
      ]
     },
     "execution_count": 25,
     "metadata": {},
     "output_type": "execute_result"
    }
   ],
   "source": [
    "len(fd_r)"
   ]
  },
  {
   "cell_type": "code",
   "execution_count": null,
   "id": "a2f66c9c-7f11-4765-a3f2-a9479d46c00b",
   "metadata": {},
   "outputs": [],
   "source": [
    "## plot data distribution\n",
    "\n",
    "import numpy as np\n",
    "\n",
    "fd_r,rd_r,fd_a,rd_a=[],[],[],[]\n",
    "for e in ename:\n",
    "    fd_r.append(fdata_rt[e])\n",
    "    rd_r.append(rdata_rt[e])\n",
    "    fd_a.append(fdata_acc[e])\n",
    "    rd_a.append(rdata_acc[e])\n",
    "\n",
    "## rt\n",
    "fig,ax = plt.subplots(figsize=(20,10),dpi=80)\n",
    "width_1 = 0.4\n",
    "ax.bar(np.arange(len(fd_r)),fd_r,width=width_1,tick_label=ename,label = \"false data\")\n",
    "ax.bar(np.arange(len(rd_r))+width_1,rd_r,width=width_1,tick_label=ename,label=\"real data\")\n",
    "ax.legend()\n",
    "plt.ylabel('RT (ms)')\n",
    "plt.show()"
   ]
  },
  {
   "cell_type": "code",
   "execution_count": null,
   "id": "5b052ace-0a33-45f3-a455-ac847a891e3c",
   "metadata": {},
   "outputs": [],
   "source": [
    "## acc\n",
    "fig,ax = plt.subplots(figsize=(20,10),dpi=80)\n",
    "width_1 = 0.4\n",
    "ax.bar(np.arange(len(fd_a)),fd_a,width=width_1,tick_label=ename,label = \"false data\")\n",
    "ax.bar(np.arange(len(rd_a))+width_1,rd_a,width=width_1,tick_label=ename,label=\"real data\")\n",
    "ax.legend()\n",
    "plt.ylabel('ACC (%)')\n",
    "plt.show()"
   ]
  },
  {
   "cell_type": "code",
   "execution_count": 26,
   "id": "a32e3851-8971-45a9-b082-560e189d792b",
   "metadata": {},
   "outputs": [
    {
     "name": "stdout",
     "output_type": "stream",
     "text": [
      "r2_score rt:    0.9581966664415369\n",
      "r2_score acc:   -11.519790710571346\n"
     ]
    }
   ],
   "source": [
    "print('r2_score rt:   ',  r2_score(np.array(rd_r), np.array(fd_r)))\n",
    "print('r2_score acc:  ',  r2_score(np.array(rd_a), np.array(fd_a)))"
   ]
  },
  {
   "cell_type": "code",
   "execution_count": null,
   "id": "1d70f6da-b736-413a-8300-ee6a0d872daa",
   "metadata": {},
   "outputs": [],
   "source": []
  },
  {
   "cell_type": "code",
   "execution_count": null,
   "id": "e0b18a5c-ab4f-4eb5-baf7-fdf5b3f5f452",
   "metadata": {},
   "outputs": [],
   "source": []
  }
 ],
 "metadata": {
  "kernelspec": {
   "display_name": "Python 3 (ipykernel)",
   "language": "python",
   "name": "python3"
  },
  "language_info": {
   "codemirror_mode": {
    "name": "ipython",
    "version": 3
   },
   "file_extension": ".py",
   "mimetype": "text/x-python",
   "name": "python",
   "nbconvert_exporter": "python",
   "pygments_lexer": "ipython3",
   "version": "3.8.13"
  }
 },
 "nbformat": 4,
 "nbformat_minor": 5
}
