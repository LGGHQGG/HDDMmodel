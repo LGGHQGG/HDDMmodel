{
 "cells": [
  {
   "cell_type": "markdown",
   "id": "e4511fc9-9282-41cd-a20b-96a23b68018c",
   "metadata": {},
   "source": [
    "# Load package"
   ]
  },
  {
   "cell_type": "code",
   "execution_count": 1,
   "id": "53066f88-6b20-46e9-a5fc-5044b3260af2",
   "metadata": {},
   "outputs": [
    {
     "name": "stdout",
     "output_type": "stream",
     "text": [
      "The current HDDM version is:  0.9.8RC\n",
      "The current kabuki version is:  0.6.5RC3\n",
      "The current PyMC version is:  2.3.8\n",
      "The current ArviZ version is:  0.14.0\n"
     ]
    }
   ],
   "source": [
    "%matplotlib inline\n",
    "\n",
    "# General packages for system, time, etc\n",
    "import os, time, csv, sys\n",
    "import datetime\n",
    "from datetime import date\n",
    "import glob\n",
    "\n",
    "# scitnific computing and plotting\n",
    "import numpy as np\n",
    "import pandas as pd\n",
    "import xarray as xr\n",
    "import matplotlib.pyplot as plt\n",
    "import seaborn as sns\n",
    "\n",
    "# HDDM related packages\n",
    "import pymc as pm\n",
    "import hddm\n",
    "import kabuki\n",
    "import arviz as az\n",
    "print(\"The current HDDM version is: \", hddm.__version__)\n",
    "print(\"The current kabuki version is: \", kabuki.__version__)\n",
    "print(\"The current PyMC version is: \", pm.__version__)\n",
    "print(\"The current ArviZ version is: \", az.__version__)\n",
    "\n",
    "# parallel processing related\n",
    "from p_tqdm import p_map\n",
    "from functools import partial\n",
    "\n",
    "from sklearn.metrics import r2_score"
   ]
  },
  {
   "cell_type": "markdown",
   "id": "3e11593e-3afa-4b59-a4d1-63f13e230fb1",
   "metadata": {},
   "source": [
    "# Load data"
   ]
  },
  {
   "cell_type": "code",
   "execution_count": 2,
   "id": "2519a33e-c089-4858-bfe8-16738fc52d82",
   "metadata": {},
   "outputs": [],
   "source": [
    "cpath=os.getcwd()\n",
    "lname=cpath+'/ior_stroop_alldata.csv'\n",
    "data=pd.read_csv(lname)\n",
    "data['rt']=data['rt']/1000\n",
    "data.rename(columns={\"sub_idx\": \"subj_idx\"}, inplace=True)"
   ]
  },
  {
   "cell_type": "code",
   "execution_count": 3,
   "id": "e2e22396-7558-4cb2-92b3-e1d9bb7842c7",
   "metadata": {},
   "outputs": [],
   "source": [
    "def m1_id(isub,csvname,dbname,mname,df=None, samples=10000, burn=2000, thin=2): \n",
    "    \n",
    "    print('running sub: {:d}'.format(isub+1))\n",
    "     \n",
    "    m      = hddm.HDDM(df, depends_on = {'v':'expconds','a':'expconds','t':'expconds'},include={'v','a','t','sv','st'},\n",
    "                     p_outlier = .05,is_group_model=False,bias=False)\n",
    "    m.sample(samples, burn=burn, thin=thin, dbname=dbname, db='pickle')\n",
    "    m.save(mname)\n",
    "    res = pd.DataFrame([m.values])\n",
    "    res.to_csv(csvname)\n",
    "    return m"
   ]
  },
  {
   "cell_type": "code",
   "execution_count": null,
   "id": "b88ff52d-4ec0-4f90-80ee-34aacd64330c",
   "metadata": {},
   "outputs": [],
   "source": [
    "\n",
    "for isub in range(len(set(data['subj_idx']))):\n",
    "    \n",
    "    thisname='ior_stroop_m1individual_w'+str(isub+1)\n",
    "    csvname=thisname+'.csv'\n",
    "    dbname=thisname+'.db'\n",
    "    mname=thisname\n",
    "    \n",
    "    thisdata=data[data['subj_idx']==isub+1]\n",
    "    \n",
    "    m1_id(isub,csvname,dbname,mname,thisdata)"
   ]
  },
  {
   "cell_type": "code",
   "execution_count": null,
   "id": "1ba72e79-1b9b-4065-a1f0-55b14ae22e3e",
   "metadata": {},
   "outputs": [],
   "source": []
  }
 ],
 "metadata": {
  "kernelspec": {
   "display_name": "Python 3 (ipykernel)",
   "language": "python",
   "name": "python3"
  },
  "language_info": {
   "codemirror_mode": {
    "name": "ipython",
    "version": 3
   },
   "file_extension": ".py",
   "mimetype": "text/x-python",
   "name": "python",
   "nbconvert_exporter": "python",
   "pygments_lexer": "ipython3",
   "version": "3.8.13"
  }
 },
 "nbformat": 4,
 "nbformat_minor": 5
}
