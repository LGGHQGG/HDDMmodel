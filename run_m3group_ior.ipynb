{
 "cells": [
  {
   "cell_type": "markdown",
   "id": "e9348c01-c026-4d84-9ff0-41b17b501dfe",
   "metadata": {},
   "source": [
    "# Load package"
   ]
  },
  {
   "cell_type": "code",
   "execution_count": 1,
   "id": "cb74fe06-eab9-4cd1-826d-219a77fa29a5",
   "metadata": {},
   "outputs": [
    {
     "name": "stdout",
     "output_type": "stream",
     "text": [
      "The current HDDM version is:  0.9.8RC\n",
      "The current kabuki version is:  0.6.5RC3\n",
      "The current PyMC version is:  2.3.8\n",
      "The current ArviZ version is:  0.14.0\n"
     ]
    }
   ],
   "source": [
    "%matplotlib inline\n",
    "\n",
    "# General packages for system, time, etc\n",
    "import os, time, csv, sys\n",
    "import datetime\n",
    "from datetime import date\n",
    "import glob\n",
    "\n",
    "# scitnific computing and plotting\n",
    "import numpy as np\n",
    "import pandas as pd\n",
    "import xarray as xr\n",
    "import matplotlib.pyplot as plt\n",
    "import seaborn as sns\n",
    "\n",
    "# HDDM related packages\n",
    "import pymc as pm\n",
    "import hddm\n",
    "import kabuki\n",
    "import arviz as az\n",
    "print(\"The current HDDM version is: \", hddm.__version__)\n",
    "print(\"The current kabuki version is: \", kabuki.__version__)\n",
    "print(\"The current PyMC version is: \", pm.__version__)\n",
    "print(\"The current ArviZ version is: \", az.__version__)\n",
    "\n",
    "# parallel processing related\n",
    "from p_tqdm import p_map\n",
    "from functools import partial\n",
    "\n",
    "from sklearn.metrics import r2_score"
   ]
  },
  {
   "cell_type": "markdown",
   "id": "755d3557-6a18-4776-8ce2-e0211151d92d",
   "metadata": {},
   "source": [
    "# Load data"
   ]
  },
  {
   "cell_type": "code",
   "execution_count": 2,
   "id": "1f32aabb-7ac4-49d3-af04-d8b4acd87e54",
   "metadata": {},
   "outputs": [],
   "source": [
    "cpath=os.getcwd()\n",
    "lname=cpath+'/ior_stroop_alldata.csv'\n",
    "data=pd.read_csv(lname)\n",
    "data['rt']=data['rt']/1000\n",
    "data.rename(columns={\"sub_idx\": \"subj_idx\"}, inplace=True)"
   ]
  },
  {
   "cell_type": "markdown",
   "id": "d9e6eadf-da2e-47c5-ab2a-a9289f800fa5",
   "metadata": {},
   "source": [
    "# Run model 3"
   ]
  },
  {
   "cell_type": "code",
   "execution_count": 3,
   "id": "d4762a14-831e-4d88-84a1-7810606634ea",
   "metadata": {},
   "outputs": [],
   "source": [
    "from IOR_stroop_model_utils import m3_id"
   ]
  },
  {
   "cell_type": "code",
   "execution_count": 4,
   "id": "72af649a-a557-43af-98da-ef7c42a442b7",
   "metadata": {},
   "outputs": [],
   "source": [
    "nsample=10000\n",
    "burns=2000\n",
    "thins=2\n",
    "chains = 4"
   ]
  },
  {
   "cell_type": "code",
   "execution_count": null,
   "id": "cb25cb55-d474-4e97-a66b-cab9d11c824c",
   "metadata": {},
   "outputs": [],
   "source": [
    "%%time\n",
    "\n",
    "file_names = glob.glob(\"m3_id_tmp\" + \"_chain_*[!db]\", recursive=False)\n",
    "\n",
    "if file_names:\n",
    "    file_names = sorted(file_names, key=lambda x: x[-1]) # sort filenames by chain ID\n",
    "    m1res = []\n",
    "    for fname in file_names:\n",
    "        print('current loading: ', fname, '\\n')\n",
    "        m1res.append(hddm.load(fname))\n",
    "else:\n",
    "    m1res = p_map(partial(m3_id, df=data, samples=nsample, burn=burns, thin=thins,save_name=\"m3_id_tmp\"), range(chains))"
   ]
  },
  {
   "cell_type": "code",
   "execution_count": null,
   "id": "0a4a224a-2874-491d-9029-4ef7674daad2",
   "metadata": {},
   "outputs": [],
   "source": []
  },
  {
   "cell_type": "markdown",
   "id": "368a887b-2c7f-4a75-bb9d-ddeca5174d12",
   "metadata": {
    "tags": []
   },
   "source": [
    "# 2.Load Model"
   ]
  },
  {
   "cell_type": "code",
   "execution_count": 6,
   "id": "bf3ed731-9ae0-401e-b945-32cd6dab28a3",
   "metadata": {},
   "outputs": [],
   "source": [
    "file_names = glob.glob(\"m3_id_tmp\" + \"_chain_*[!db]\", recursive=False)\n",
    "m3=[]\n",
    "for f in file_names:\n",
    "    m3.append(hddm.load(f))"
   ]
  },
  {
   "cell_type": "markdown",
   "id": "68efa5f7-c358-4787-b3a1-892a9b475d84",
   "metadata": {
    "tags": []
   },
   "source": [
    "# 3.Model convergence"
   ]
  },
  {
   "cell_type": "markdown",
   "id": "bf62787e-ef49-4276-b147-2bc1e0a43065",
   "metadata": {},
   "source": [
    "#### R-hat 指标检查模型是否拟合好了，所有参数的R-hat<1.01 则表明模型拟合好了"
   ]
  },
  {
   "cell_type": "code",
   "execution_count": null,
   "id": "cdc1b536-3a46-4674-8bb4-579bc373edfa",
   "metadata": {},
   "outputs": [],
   "source": [
    "from kabuki.analyze import gelman_rubin\n",
    "gelman_rubin(m3)"
   ]
  },
  {
   "cell_type": "code",
   "execution_count": 8,
   "id": "6aecf1b7-558e-4ab6-917b-5a98768c2b31",
   "metadata": {},
   "outputs": [
    {
     "data": {
      "text/plain": [
       "1.2455632429796069"
      ]
     },
     "execution_count": 8,
     "metadata": {},
     "output_type": "execute_result"
    }
   ],
   "source": [
    "np.max(list(gelman_rubin(m3).values()))"
   ]
  },
  {
   "cell_type": "markdown",
   "id": "059c851a-6d16-4639-b5be-c7778a200ebf",
   "metadata": {},
   "source": [
    "#### combine these three models to get a better approximation of the posterior distribution."
   ]
  },
  {
   "cell_type": "code",
   "execution_count": 9,
   "id": "1a6e6d2b-a8a2-46d7-b4ae-90d68a7c66e1",
   "metadata": {},
   "outputs": [],
   "source": [
    "# Combine the models we ran to test for convergence.\n",
    "m = kabuki.utils.concat_models(m3)"
   ]
  },
  {
   "cell_type": "markdown",
   "id": "e43b2094-da42-414e-b637-d8736ca26682",
   "metadata": {},
   "source": [
    "### visual trace"
   ]
  },
  {
   "cell_type": "code",
   "execution_count": null,
   "id": "0c93e8a0-0f66-4471-9919-f374acab10de",
   "metadata": {},
   "outputs": [],
   "source": [
    "m.plot_posteriors(save=True)"
   ]
  },
  {
   "cell_type": "code",
   "execution_count": 10,
   "id": "2f33c194-03a9-4e9e-b31a-167ce9c6ce4d",
   "metadata": {},
   "outputs": [
    {
     "data": {
      "text/plain": [
       "-20765.090045300985"
      ]
     },
     "execution_count": 10,
     "metadata": {},
     "output_type": "execute_result"
    }
   ],
   "source": [
    "m.dic"
   ]
  },
  {
   "cell_type": "code",
   "execution_count": null,
   "id": "0fbcea3f-b57d-4996-a4eb-86da14ab7c56",
   "metadata": {},
   "outputs": [],
   "source": []
  }
 ],
 "metadata": {
  "kernelspec": {
   "display_name": "Python 3 (ipykernel)",
   "language": "python",
   "name": "python3"
  },
  "language_info": {
   "codemirror_mode": {
    "name": "ipython",
    "version": 3
   },
   "file_extension": ".py",
   "mimetype": "text/x-python",
   "name": "python",
   "nbconvert_exporter": "python",
   "pygments_lexer": "ipython3",
   "version": "3.8.13"
  }
 },
 "nbformat": 4,
 "nbformat_minor": 5
}
