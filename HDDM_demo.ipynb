{
 "cells": [
  {
   "cell_type": "code",
   "execution_count": null,
   "id": "5b14fd26-0d93-4d3f-96ab-949be0b11657",
   "metadata": {},
   "outputs": [],
   "source": [
    "%matplotlib inline\n",
    "\n",
    "# General packages for system, time, etc\n",
    "import os, time, csv, sys\n",
    "import datetime\n",
    "from datetime import date\n",
    "import glob\n",
    "\n",
    "# scitnific computing and plotting\n",
    "import numpy as np\n",
    "import pandas as pd\n",
    "import xarray as xr\n",
    "import matplotlib.pyplot as plt\n",
    "import seaborn as sns\n",
    "\n",
    "# HDDM related packages\n",
    "import pymc as pm\n",
    "import hddm\n",
    "import kabuki\n",
    "import arviz as az\n",
    "print(\"The current HDDM version is: \", hddm.__version__)\n",
    "print(\"The current kabuki version is: \", kabuki.__version__)\n",
    "print(\"The current PyMC version is: \", pm.__version__)\n",
    "print(\"The current ArviZ version is: \", az.__version__)\n",
    "\n",
    "# parallel processing related\n",
    "from p_tqdm import p_map\n",
    "from functools import partial\n",
    "\n",
    "from sklearn.metrics import r2_score"
   ]
  },
  {
   "cell_type": "markdown",
   "id": "2732a0b1-f22f-4486-a66e-238f6cb2b185",
   "metadata": {
    "tags": []
   },
   "source": [
    "# 1.Run Model"
   ]
  },
  {
   "cell_type": "code",
   "execution_count": null,
   "id": "8843cd43-1686-43f6-8b83-2efa5401acb6",
   "metadata": {},
   "outputs": [],
   "source": [
    "path=os.getcwd()\n",
    "data=pd.read_csv(path+'/allData.csv')"
   ]
  },
  {
   "cell_type": "code",
   "execution_count": null,
   "id": "bd78015c-1756-458b-8c60-227ee85191d1",
   "metadata": {},
   "outputs": [],
   "source": [
    "path=os.getcwd()+'/del_r2negative/'\n",
    "f_list = os.listdir(path)\n",
    "idx=0\n",
    "m_idx,m_file=[],[]\n",
    "for i in f_list:\n",
    "    if os.path.splitext(i)[1]  != '.db':\n",
    "            m_idx.append(idx)\n",
    "            m_file.append(i)\n",
    "    idx+=1"
   ]
  },
  {
   "cell_type": "code",
   "execution_count": null,
   "id": "d82e0156-d2df-4403-811b-a6ba82d5f191",
   "metadata": {},
   "outputs": [],
   "source": [
    "left_sub=[]\n",
    "for i in m_file:\n",
    "    left_sub.append(int(i.split('_')[2]))\n",
    "left_sub.sort()"
   ]
  },
  {
   "cell_type": "code",
   "execution_count": null,
   "id": "1dc0f3b9-5fdc-4638-816c-d0264be4df53",
   "metadata": {},
   "outputs": [],
   "source": [
    "new_data=data.copy()\n",
    "for i in range(1,134):\n",
    "    if i not in left_sub:\n",
    "        new_data.drop(new_data[new_data['subj_idx'] == i].index, inplace=True)\n",
    "new_data['rt']=new_data['rt']/1000"
   ]
  },
  {
   "cell_type": "code",
   "execution_count": null,
   "id": "6b3d6832-80c6-40b8-b9c2-822f169d7515",
   "metadata": {},
   "outputs": [],
   "source": [
    "new_data.to_csv('left_sub.csv')"
   ]
  },
  {
   "cell_type": "code",
   "execution_count": null,
   "id": "4a1c05a6-2004-401a-b90e-709e782b2d1a",
   "metadata": {},
   "outputs": [],
   "source": [
    "def m1_id(id, df=None, samples=None, burn=None, thin=1, save_name=\"m1\"): \n",
    "    \"\"\"\n",
    "    This function defines a function that run a HDDM model\n",
    "    id — the id of a cpu thread\n",
    "    data — The input data\n",
    "    samples — number of samples for MCMC\n",
    "    burn — number of burn in (or warm-up) of MCMC\n",
    "    thin — number of thin, the same as in HDDM\n",
    "    save_name — prefix of file name when saving the model objects.\n",
    "    \"\"\"\n",
    "    print('running chain {:d} for model {}'.format(id, save_name))\n",
    "    import hddm\n",
    "    \n",
    "    dbname = save_name + '_chain_%i.db'%id \n",
    "    mname  = save_name + '_chain_%i'%id    \n",
    "    m      = hddm.HDDM(df, depends_on = {'v':'expConds','a':'expConds','t':'expConds'},include={'v','a','t','sv','st'},\n",
    "                     p_outlier = .05,is_group_model=True,bias=False)\n",
    "    m.find_starting_values()\n",
    "    m.sample(samples, burn=burn, thin=thin, dbname=dbname, db='pickle')\n",
    "    m.save(mname)\n",
    "    \n",
    "    return m"
   ]
  },
  {
   "cell_type": "code",
   "execution_count": null,
   "id": "57415516-2315-4afc-80bc-599eeb9cfc44",
   "metadata": {},
   "outputs": [],
   "source": [
    "nsample=10000\n",
    "burns=2000\n",
    "thins=2\n",
    "chains = 4"
   ]
  },
  {
   "cell_type": "code",
   "execution_count": null,
   "id": "4447500b-b683-4fbf-8fb7-9bd9fffb13be",
   "metadata": {},
   "outputs": [],
   "source": [
    "%%time\n",
    "\n",
    "file_names = glob.glob(\"m1_id_tmp\" + \"_chain_*[!db]\", recursive=False)\n",
    "\n",
    "if file_names:\n",
    "    file_names = sorted(file_names, key=lambda x: x[-1]) # sort filenames by chain ID\n",
    "    m1res = []\n",
    "    for fname in file_names:\n",
    "        print('current loading: ', fname, '\\n')\n",
    "        m1res.append(hddm.load(fname))\n",
    "else:\n",
    "    m1res = p_map(partial(m1_id, df=new_data, samples=nsample, burn=burns, thin=thins,save_name=\"m1_id_tmp\"), range(chains))"
   ]
  },
  {
   "cell_type": "markdown",
   "id": "ad0f120e-19c8-4f7d-bf68-ae7d1fda8548",
   "metadata": {
    "tags": []
   },
   "source": [
    "# 2.Load Model"
   ]
  },
  {
   "cell_type": "code",
   "execution_count": null,
   "id": "5d91a4ea-cb97-4e1c-8a0d-cdf1d61de9ca",
   "metadata": {},
   "outputs": [],
   "source": [
    "file_names = glob.glob(\"m1_id_tmp\" + \"_chain_*[!db]\", recursive=False)\n",
    "m1=[]\n",
    "for f in file_names:\n",
    "    m1.append(hddm.load(f))"
   ]
  },
  {
   "cell_type": "markdown",
   "id": "b575f6a0-7447-4f98-8686-ae3528ad6fca",
   "metadata": {
    "tags": []
   },
   "source": [
    "# 3.Model convergence"
   ]
  },
  {
   "cell_type": "markdown",
   "id": "45d02920-cb52-4115-8308-4d45fc5b2c73",
   "metadata": {},
   "source": [
    "#### R-hat 指标检查模型是否拟合好了，所有参数的R-hat<1.01 则表明模型拟合好了"
   ]
  },
  {
   "cell_type": "code",
   "execution_count": null,
   "id": "8a37ebe1-ff98-4a2a-ab37-c1b2f23b7482",
   "metadata": {},
   "outputs": [],
   "source": [
    "from kabuki.analyze import gelman_rubin\n",
    "gelman_rubin(m1)"
   ]
  },
  {
   "cell_type": "code",
   "execution_count": null,
   "id": "2c80c6e3-07dd-479a-b83b-c21e45589362",
   "metadata": {},
   "outputs": [],
   "source": [
    "np.max(list(gelman_rubin(m1).values()))"
   ]
  },
  {
   "cell_type": "markdown",
   "id": "b6e7b827-59af-49e6-9c47-a6c70184b8b7",
   "metadata": {},
   "source": [
    "#### combine these three models to get a better approximation of the posterior distribution."
   ]
  },
  {
   "cell_type": "code",
   "execution_count": null,
   "id": "e6f9d365-1d10-4245-b759-d307d1c64570",
   "metadata": {},
   "outputs": [],
   "source": [
    "# Combine the models we ran to test for convergence.\n",
    "m = kabuki.utils.concat_models(m1)"
   ]
  },
  {
   "cell_type": "markdown",
   "id": "b06a37b4-685d-4c10-a12f-a02b8e4cd070",
   "metadata": {},
   "source": [
    "### visual trace"
   ]
  },
  {
   "cell_type": "code",
   "execution_count": null,
   "id": "c4816dbc-c64e-4ac4-a839-a6958de11439",
   "metadata": {},
   "outputs": [],
   "source": [
    "m.plot_posteriors(save=True)"
   ]
  },
  {
   "cell_type": "markdown",
   "id": "d39a9048-9d88-442a-975b-e3ca8d8fe3dd",
   "metadata": {
    "tags": []
   },
   "source": [
    "# 4.Compute R^2"
   ]
  },
  {
   "cell_type": "code",
   "execution_count": null,
   "id": "6e9958ed-e3fa-4cb7-859f-42b3e749fd60",
   "metadata": {},
   "outputs": [],
   "source": [
    "m.values"
   ]
  },
  {
   "cell_type": "code",
   "execution_count": null,
   "id": "c8f6dbe3-8152-4352-bc0a-4bfb1e81f6ad",
   "metadata": {},
   "outputs": [],
   "source": [
    "scsv=pd.DataFrame([m.values])\n",
    "scsv.to_csv('del_negative_group_model_param.csv')"
   ]
  },
  {
   "cell_type": "code",
   "execution_count": null,
   "id": "21d6d2c4-e747-41de-90bf-a17bb8651b54",
   "metadata": {},
   "outputs": [],
   "source": [
    "#modelt_1.csv\n",
    "filename = 'del_negative_group_model_param.csv'\n",
    "model_excel = pd.read_csv(filename)\n",
    "#simulate data for group ourside\n",
    "ename=['easy_absent_cued','easy_absent_uncued','easy_present_cued','easy_present_uncued',\n",
    "      'hard_absent_cued','hard_absent_uncued','hard_present_cued','hard_present_uncued']\n",
    "pname=['v','v_std','a','a_std','t','t_std','sv','st']\n",
    "params={}\n",
    "for e in ename:\n",
    "    params[e]={}\n",
    "    for p in range(len(pname)):\n",
    "        if p==0 or p==2 or p==4:\n",
    "            this_name=pname[p]+'('+e+')'\n",
    "        else:\n",
    "            this_name=pname[p]  \n",
    "        params[e][pname[p]]=model_excel[this_name][0]\n",
    "        params[e]['z']=0.5"
   ]
  },
  {
   "cell_type": "markdown",
   "id": "abe1d2fb-f731-4ce4-9bb4-2012393bf595",
   "metadata": {},
   "source": [
    "## false & real data"
   ]
  },
  {
   "cell_type": "code",
   "execution_count": null,
   "id": "910cf961-ffc4-4ac2-81f4-9c2795f34048",
   "metadata": {},
   "outputs": [],
   "source": [
    "simulated = hddm.generate.gen_rand_data(params,size=10000)\n",
    "simulated_data=simulated[0]"
   ]
  },
  {
   "cell_type": "code",
   "execution_count": null,
   "id": "9477a13e-d7c7-4215-87ee-771ce8645a33",
   "metadata": {},
   "outputs": [],
   "source": [
    "simulated_data"
   ]
  },
  {
   "cell_type": "code",
   "execution_count": null,
   "id": "597bcbff-5e80-49e3-a822-3ba2a4bffcbd",
   "metadata": {},
   "outputs": [],
   "source": [
    "fdata,rdata={},{}\n",
    "for e in ename:\n",
    "    fdata[e]=simulated_data[simulated_data['condition']==e]\n",
    "    rdata[e]=new_data[new_data['expConds']==e]"
   ]
  },
  {
   "cell_type": "code",
   "execution_count": null,
   "id": "6a0ad3cc-9eba-4346-8910-0b9d5dfea5d8",
   "metadata": {},
   "outputs": [],
   "source": [
    "fdata_rt,rdata_rt={},{}\n",
    "fdata_acc,rdata_acc={},{}\n",
    "for e in ename:\n",
    "    fdata_rt[e] = np.mean(fdata[e]['rt'])\n",
    "    rdata_rt[e] = np.mean(rdata[e]['rt'])\n",
    "    fdata_acc[e]=float(np.sum(fdata[e]['response']==1))/len(fdata[e])\n",
    "    rdata_acc[e]=float(np.sum(rdata[e]['response']==1))/len(rdata[e])"
   ]
  },
  {
   "cell_type": "code",
   "execution_count": null,
   "id": "888efccc-2514-43ed-b5ac-2d3fa0519cea",
   "metadata": {},
   "outputs": [],
   "source": [
    "## plot data distribution\n",
    "\n",
    "import numpy as np\n",
    "\n",
    "fd_r,rd_r,fd_a,rd_a=[],[],[],[]\n",
    "for e in ename:\n",
    "    fd_r.append(fdata_rt[e])\n",
    "    rd_r.append(rdata_rt[e])\n",
    "    fd_a.append(fdata_acc[e])\n",
    "    rd_a.append(rdata_acc[e])\n",
    "\n",
    "## rt\n",
    "fig,ax = plt.subplots(figsize=(20,10),dpi=80)\n",
    "width_1 = 0.4\n",
    "ax.bar(np.arange(len(fd_r)),fd_r,width=width_1,tick_label=ename,label = \"false data\")\n",
    "ax.bar(np.arange(len(rd_r))+width_1,rd_r,width=width_1,tick_label=ename,label=\"real data\")\n",
    "ax.legend()\n",
    "plt.ylabel('RT (ms)')\n",
    "plt.show()"
   ]
  },
  {
   "cell_type": "code",
   "execution_count": null,
   "id": "28af95aa-bd19-41cd-ba6d-0e55c07bfda2",
   "metadata": {},
   "outputs": [],
   "source": [
    "## acc\n",
    "fig,ax = plt.subplots(figsize=(20,10),dpi=80)\n",
    "width_1 = 0.4\n",
    "ax.bar(np.arange(len(fd_a)),fd_a,width=width_1,tick_label=ename,label = \"false data\")\n",
    "ax.bar(np.arange(len(rd_a))+width_1,rd_a,width=width_1,tick_label=ename,label=\"real data\")\n",
    "ax.legend()\n",
    "plt.ylabel('ACC (%)')\n",
    "plt.show()"
   ]
  },
  {
   "cell_type": "code",
   "execution_count": null,
   "id": "4562bbed-9340-48ca-abd9-814108f1c519",
   "metadata": {},
   "outputs": [],
   "source": [
    "print('r2_score rt:   ',  r2_score(np.array(rd_r), np.array(fd_r)))\n",
    "print('r2_score acc:  ',  r2_score(np.array(rd_a), np.array(fd_a)))"
   ]
  },
  {
   "cell_type": "markdown",
   "id": "1409c1a6-da60-4d17-b37f-61d788d07d2c",
   "metadata": {
    "tags": []
   },
   "source": [
    "# 5.Plot and Compare 参数在不同条件下的后验分布，得到不同参数在不同条件下的差异，以及是否显著"
   ]
  },
  {
   "cell_type": "markdown",
   "id": "7471e4cd-d534-4389-8b87-5e7374fbbf26",
   "metadata": {},
   "source": [
    "## Plot mzw posterior"
   ]
  },
  {
   "cell_type": "code",
   "execution_count": null,
   "id": "c6bd0156-fb70-4e86-8cf2-2f5161e1e064",
   "metadata": {},
   "outputs": [],
   "source": [
    "from utils import interpolate_trace\n",
    "from matplotlib.pylab import figure\n",
    "def mzw_plot_posterior_nodes(traces, names,bins=50, lb=None, ub=None):\n",
    "    \"\"\"Plot interpolated posterior of a list of nodes.\n",
    "\n",
    "    :Arguments:\n",
    "        nodes : list of pymc.Node's\n",
    "            List of pymc.Node's to plot the posterior of.\n",
    "            These can be found in model.nodes_db.node.loc['param_name']\n",
    "        bins : int (default=50)\n",
    "            How many bins to use for computing the histogram.\n",
    "        lb : float (default is to infer from data)\n",
    "            Lower boundary to use for plotting.\n",
    "        ub : float (default is to infer from data)\n",
    "            Upper boundary to use for plotting.\n",
    "    \"\"\"\n",
    "    figure(figsize=(4,4))\n",
    "    if lb is None:\n",
    "        lb = np.min(traces)\n",
    "    if ub is None:\n",
    "        ub = np.max(traces)\n",
    "\n",
    "    x_data = np.linspace(lb, ub, 300)\n",
    "\n",
    "    for i in range(len(names)):\n",
    "        trace=traces[:,i]\n",
    "        # hist = interpolate_trace(x_data, trace, range=(trace.min(), trace.max()), bins=bins)\n",
    "        hist = interpolate_trace(x_data, trace, range=(lb, ub), bins=bins)\n",
    "        plt.plot(x_data, hist, label=names[i], lw=2.0)\n",
    "\n",
    "    leg = plt.legend(loc=\"upper right\", fancybox=True)\n",
    "    leg.get_frame().set_alpha(0.5)"
   ]
  },
  {
   "cell_type": "markdown",
   "id": "553c8406-11a8-44d2-af6d-9acac8eac250",
   "metadata": {
    "tags": []
   },
   "source": [
    "### (1) Drift rate"
   ]
  },
  {
   "cell_type": "code",
   "execution_count": null,
   "id": "1c2988d0-15b4-4200-80c3-f53e33d85907",
   "metadata": {},
   "outputs": [],
   "source": [
    "v_ebc, v_ebu, v_epc, v_epu, v_hbc, v_hbu, v_hpc, v_hpu = m.nodes_db.node[['v(easy_absent_cued)','v(easy_absent_uncued)','v(easy_present_cued)','v(easy_present_uncued)',\n",
    "                                                                         'v(hard_absent_cued)','v(hard_absent_uncued)','v(hard_present_cued)','v(hard_present_uncued)']]\n",
    "\n",
    "hddm.analyze.plot_posterior_nodes([v_ebc, v_ebu, v_epc, v_epu, v_hbc, v_hbu, v_hpc, v_hpu])\n",
    "plt.xlabel('Drift rate')\n",
    "plt.ylabel('Posterior probability')\n",
    "plt.title('Posterior of group means')\n",
    "plt.savefig('Drift rate Posterior probability.png'，dpi=300)"
   ]
  },
  {
   "cell_type": "markdown",
   "id": "e7c1db63-bcc6-422b-b037-c989cd23ce1c",
   "metadata": {},
   "source": [
    "#### Cueing"
   ]
  },
  {
   "cell_type": "code",
   "execution_count": null,
   "id": "1bcd342b-3976-49c4-a71e-cdd24ea54a3e",
   "metadata": {},
   "outputs": [],
   "source": [
    "cued_trace=np.expand_dims(np.mean([v_ebc.trace(),v_epc.trace(),v_hbc.trace(),v_hpc.trace()],axis=0),1)\n",
    "uncued_trace=np.expand_dims(np.mean([v_ebu.trace(),v_epu.trace(),v_hbu.trace(),v_hpu.trace()],axis=0),1)\n",
    "\n",
    "traces=np.concatenate([cued_trace,uncued_trace],axis=1)\n",
    "mzw_plot_posterior_nodes(traces,['Cued','Uncued'])\n",
    "plt.xlabel('Drift rate')\n",
    "plt.ylabel('Posterior probability')\n",
    "plt.title('Cueing effect')\n",
    "plt.savefig('Drift rate Cueing Posterior probability.png',dpi=300,bbox_inches='tight')\n",
    "print('Significance:',((v_ebc.trace()+v_epc.trace()+v_hbc.trace()+v_hpc.trace()) > (v_ebu.trace()+v_epu.trace()+v_hbu.trace()+v_hpu.trace())).mean())"
   ]
  },
  {
   "cell_type": "markdown",
   "id": "7d308848-05aa-4762-bede-3e1b08b231cf",
   "metadata": {},
   "source": [
    "#### Task*Cueing"
   ]
  },
  {
   "cell_type": "code",
   "execution_count": null,
   "id": "c7d26405-fda3-45a8-9954-6e9a47495444",
   "metadata": {},
   "outputs": [],
   "source": [
    "cued_trace=np.expand_dims(np.mean([(v_ebc.trace()-v_ebu.trace()),(v_epc.trace()-v_epu.trace())],axis=0),1)\n",
    "uncued_trace=np.expand_dims(np.mean([(v_hbc.trace()-v_hbu.trace()),(v_hpc.trace()-v_hpu.trace())],axis=0),1)\n",
    "\n",
    "traces=np.concatenate([cued_trace,uncued_trace],axis=1)\n",
    "mzw_plot_posterior_nodes(traces,['Easy','Hard'])\n",
    "plt.xlabel('Drift rate')\n",
    "plt.ylabel('Cued - Uncued\\nPosterior probability')\n",
    "plt.title('Task difficulty*Cueing')\n",
    "plt.savefig('Drift rate Task-Cueing Posterior probability.png',dpi=300,bbox_inches='tight')\n",
    "print('Significance:',((v_ebc.trace()-v_ebu.trace()+v_epc.trace()-v_epu.trace()) < (v_hbc.trace()-v_hbu.trace()+v_hpc.trace()-v_hpu.trace())).mean())"
   ]
  },
  {
   "cell_type": "markdown",
   "id": "74227e34-e6f5-423a-8164-bfcd1b067498",
   "metadata": {},
   "source": [
    "#### Central*Cueing"
   ]
  },
  {
   "cell_type": "code",
   "execution_count": null,
   "id": "d3cbe325-8e42-4f99-93ef-4832d432695b",
   "metadata": {},
   "outputs": [],
   "source": [
    "cued_trace=np.expand_dims(np.mean([(v_ebc.trace()-v_ebu.trace()),(v_hbc.trace()-v_hbu.trace())],axis=0),1)\n",
    "uncued_trace=np.expand_dims(np.mean([(v_epc.trace()-v_epu.trace()),(v_hpc.trace()-v_hpu.trace())],axis=0),1)\n",
    "\n",
    "traces=np.concatenate([cued_trace,uncued_trace],axis=1)\n",
    "traces=traces*1000\n",
    "mzw_plot_posterior_nodes(traces,['Absent','Present'])\n",
    "plt.xlabel('Drift rate')\n",
    "plt.ylabel('Cued - Uncued\\nPosterior probabilit')\n",
    "plt.title('Central Fixation*Cueing')\n",
    "plt.savefig('Drift rate Central-Cueing Posterior probability.png',dpi=300,bbox_inches='tight')\n",
    "print('Significance:',((v_ebc.trace()-v_ebu.trace()+v_hbc.trace()-v_hbu.trace()) < (v_epc.trace()-v_epu.trace()+v_hpc.trace()-v_hpu.trace())).mean())"
   ]
  },
  {
   "cell_type": "markdown",
   "id": "ec5e7a20-a9cd-4e9a-85ef-9ff1be53fb4a",
   "metadata": {
    "tags": []
   },
   "source": [
    "#### Task * Central * Cueing"
   ]
  },
  {
   "cell_type": "code",
   "execution_count": null,
   "id": "9826ba10-8bfe-4d2f-a732-b2ca7e06103b",
   "metadata": {},
   "outputs": [],
   "source": [
    "ea=np.expand_dims(np.mean([(v_ebc.trace()-v_ebu.trace())],axis=0),1)\n",
    "ep=np.expand_dims(np.mean([(v_epc.trace()-v_epu.trace())],axis=0),1)\n",
    "ha=np.expand_dims(np.mean([(v_hbc.trace()-v_hbu.trace())],axis=0),1)\n",
    "hp=np.expand_dims(np.mean([(v_hpc.trace()-v_hpu.trace())],axis=0),1)\n",
    "\n",
    "traces=np.concatenate([ea,ep,ha,hp],axis=1)\n",
    "mzw_plot_posterior_nodes(traces,['Easy-Absent','Easy-Present','Hard-Absent','Hard-present'])\n",
    "plt.xlabel('Drift rate')\n",
    "plt.ylabel('Cued - Uncued\\nPosterior probability')\n",
    "plt.title('Task difficulty*Central Fixation*Cueing')\n",
    "plt.savefig('Drift rate Task-Central-Cueing Posterior probability.png',dpi=300,bbox_inches='tight')\n",
    "#print('Significance:',((a_ebc.trace()-a_ebu.trace()+a_hbc.trace()-a_hbu.trace()) < (a_epc.trace()-a_epu.trace()+a_hpc.trace()-a_hpu.trace())).mean())"
   ]
  },
  {
   "cell_type": "markdown",
   "id": "401454cc-e441-47d0-94ff-af7d0a299b5c",
   "metadata": {
    "tags": []
   },
   "source": [
    "### (2) Non-decision time"
   ]
  },
  {
   "cell_type": "code",
   "execution_count": null,
   "id": "3b476b2e-69b3-473c-8e48-16eb868e2cd4",
   "metadata": {},
   "outputs": [],
   "source": [
    "t_ebc, t_ebu, t_epc, t_epu, t_hbc, t_hbu, t_hpc, t_hpu = m.nodes_db.node[['t(easy_absent_cued)','t(easy_absent_uncued)','t(easy_present_cued)','t(easy_present_uncued)',\n",
    "                                                                         't(hard_absent_cued)','t(hard_absent_uncued)','t(hard_present_cued)','t(hard_present_uncued)']]\n",
    "\n",
    "hddm.analyze.plot_posterior_nodes([t_ebc, t_ebu, t_epc, t_epu, t_hbc, t_hbu, t_hpc, t_hpu])\n",
    "plt.xlabel('Non-decision time (s)')\n",
    "plt.ylabel('Posterior probability')\n",
    "plt.title('Posterior of group means')\n",
    "plt.savefig('Non-decision time Posterior probability.png')"
   ]
  },
  {
   "cell_type": "markdown",
   "id": "528b0d52-916b-4275-8f2e-ba69cb98700a",
   "metadata": {},
   "source": [
    "#### Cueing"
   ]
  },
  {
   "cell_type": "code",
   "execution_count": null,
   "id": "01d43191-a287-4a14-a82c-8489aab0e149",
   "metadata": {},
   "outputs": [],
   "source": [
    "cued_trace=np.expand_dims(np.mean([t_ebc.trace(),t_epc.trace(),t_hbc.trace(),t_hpc.trace()],axis=0),1)\n",
    "uncued_trace=np.expand_dims(np.mean([t_ebu.trace(),t_epu.trace(),t_hbu.trace(),t_hpu.trace()],axis=0),1)\n",
    "\n",
    "traces=np.concatenate([cued_trace,uncued_trace],axis=1)\n",
    "mzw_plot_posterior_nodes(traces,['Cued','Uncued'])\n",
    "traces=traces*1000\n",
    "plt.xlabel('Non-decision time (ms)')\n",
    "plt.ylabel('Posterior probability')\n",
    "plt.title('Cueing effect')\n",
    "plt.savefig('Non-decision time Cueing Posterior probability.png',dpi=300,bbox_inches='tight')\n",
    "print('Significance:',((t_ebc.trace()+t_epc.trace()+t_hbc.trace()+t_hpc.trace()) < (t_ebu.trace()+t_epu.trace()+t_hbu.trace()+t_hpu.trace())).mean())"
   ]
  },
  {
   "cell_type": "markdown",
   "id": "5809ba21-7799-4634-b2eb-aba80b795940",
   "metadata": {},
   "source": [
    "#### Task*Cueing"
   ]
  },
  {
   "cell_type": "code",
   "execution_count": null,
   "id": "a2065596-30d0-440e-803c-acc96fdaae7b",
   "metadata": {},
   "outputs": [],
   "source": [
    "cued_trace=np.expand_dims(np.mean([(t_ebc.trace()-t_ebu.trace()),(t_epc.trace()-t_epu.trace())],axis=0),1)\n",
    "uncued_trace=np.expand_dims(np.mean([(t_hbc.trace()-t_hbu.trace()),(t_hpc.trace()-t_hpu.trace())],axis=0),1)\n",
    "\n",
    "traces=np.concatenate([cued_trace,uncued_trace],axis=1)\n",
    "traces=traces*1000\n",
    "mzw_plot_posterior_nodes(traces,['Easy','Hard'])\n",
    "plt.xlabel('Non-decision time (ms)')\n",
    "plt.ylabel('Cued - Uncued\\nPosterior probability')\n",
    "plt.title('Task difficulty*Cueing')\n",
    "plt.savefig('Non-decision time Task-Cueing Posterior probability.png',dpi=300,bbox_inches='tight')\n",
    "print('Significance:',((t_ebc.trace()-t_ebu.trace()+t_epc.trace()-t_epu.trace()) > (t_hbc.trace()-t_hbu.trace()+t_hpc.trace()-t_hpu.trace())).mean())"
   ]
  },
  {
   "cell_type": "markdown",
   "id": "60980cf4-3211-485f-a9ba-53b312502633",
   "metadata": {},
   "source": [
    "#### Central*Cueing"
   ]
  },
  {
   "cell_type": "code",
   "execution_count": null,
   "id": "8a0edd3d-6ce1-4221-b253-4c510b1df6d6",
   "metadata": {},
   "outputs": [],
   "source": [
    "cued_trace=np.expand_dims(np.mean([(t_ebc.trace()-t_ebu.trace()),(t_hbc.trace()-t_hbu.trace())],axis=0),1)\n",
    "uncued_trace=np.expand_dims(np.mean([(t_epc.trace()-t_epu.trace()),(t_hpc.trace()-t_hpu.trace())],axis=0),1)\n",
    "\n",
    "traces=np.concatenate([cued_trace,uncued_trace],axis=1)\n",
    "traces=traces*1000\n",
    "mzw_plot_posterior_nodes(traces,['Absent','Present'])\n",
    "plt.xlabel('Non-decision time (ms)')\n",
    "plt.ylabel('Cued - Uncued\\nPosterior probabilit')\n",
    "plt.title('Central Fixation*Cueing')\n",
    "plt.savefig('Non-decision time Central-Cueing Posterior probability.png',dpi=300,bbox_inches='tight')\n",
    "print('Significance:',((t_ebc.trace()-t_ebu.trace()+t_hbc.trace()-t_hbu.trace()) > (t_epc.trace()-t_epu.trace()+t_hpc.trace()-t_hpu.trace())).mean())"
   ]
  },
  {
   "cell_type": "markdown",
   "id": "2e544151-bcd9-4422-b96e-c2ae87df3400",
   "metadata": {
    "tags": []
   },
   "source": [
    "#### Task * Central * Cueing"
   ]
  },
  {
   "cell_type": "code",
   "execution_count": null,
   "id": "8531f4cc-e6ae-4a7b-9211-f973cd05913d",
   "metadata": {},
   "outputs": [],
   "source": [
    "ea=np.expand_dims(np.mean([(t_ebc.trace()-t_ebu.trace())],axis=0),1)\n",
    "ep=np.expand_dims(np.mean([(t_epc.trace()-t_epu.trace())],axis=0),1)\n",
    "ha=np.expand_dims(np.mean([(t_hbc.trace()-t_hbu.trace())],axis=0),1)\n",
    "hp=np.expand_dims(np.mean([(t_hpc.trace()-t_hpu.trace())],axis=0),1)\n",
    "\n",
    "traces=np.concatenate([ea,ep,ha,hp],axis=1)\n",
    "traces=traces*1000\n",
    "mzw_plot_posterior_nodes(traces,['Easy-Absent','Easy-Present','Hard-Absent','Hard-present'])\n",
    "plt.xlabel('Non-decision time (ms)')\n",
    "plt.ylabel('Cued - Uncued\\nPosterior probability')\n",
    "plt.title('Task difficulty*Central Fixation*Cueing')\n",
    "plt.savefig('Non-decision time Task-Central-Cueing Posterior probability.png',dpi=300,bbox_inches='tight')\n",
    "#print('Significance:',((a_ebc.trace()-a_ebu.trace()+a_hbc.trace()-a_hbu.trace()) < (a_epc.trace()-a_epu.trace()+a_hpc.trace()-a_hpu.trace())).mean())"
   ]
  },
  {
   "cell_type": "markdown",
   "id": "370777fc-37ea-486e-80b1-79ae4a6df36a",
   "metadata": {
    "tags": []
   },
   "source": [
    "### (3) Boundary"
   ]
  },
  {
   "cell_type": "code",
   "execution_count": null,
   "id": "6402d34f-deaa-4c2b-befa-8dfda3c9bcdd",
   "metadata": {},
   "outputs": [],
   "source": [
    "a_ebc, a_ebu, a_epc, a_epu, a_hbc, a_hbu, a_hpc, a_hpu = m.nodes_db.node[['a(easy_absent_cued)','a(easy_absent_uncued)','a(easy_present_cued)','a(easy_present_uncued)',\n",
    "                                                                         'a(hard_absent_cued)','a(hard_absent_uncued)','a(hard_present_cued)','a(hard_present_uncued)']]\n",
    "\n",
    "hddm.analyze.plot_posterior_nodes([a_ebc, a_ebu, a_epc, a_epu, a_hbc, a_hbu, a_hpc, a_hpu])\n",
    "plt.xlabel('Boundary')\n",
    "plt.ylabel('Posterior probability')\n",
    "plt.title('Posterior of group means')\n",
    "plt.savefig('Boundary Posterior probability.png')"
   ]
  },
  {
   "cell_type": "markdown",
   "id": "6115a7b6-643d-4e9f-822a-e249265f4f11",
   "metadata": {},
   "source": [
    "#### Cueing"
   ]
  },
  {
   "cell_type": "code",
   "execution_count": null,
   "id": "526b1d92-47fe-477b-a3f6-de1811935341",
   "metadata": {},
   "outputs": [],
   "source": [
    "cued_trace=np.expand_dims(np.mean([a_ebc.trace(),a_epc.trace(),a_hbc.trace(),a_hpc.trace()],axis=0),1)\n",
    "uncued_trace=np.expand_dims(np.mean([a_ebu.trace(),a_epu.trace(),a_hbu.trace(),a_hpu.trace()],axis=0),1)\n",
    "\n",
    "traces=np.concatenate([cued_trace,uncued_trace],axis=1)\n",
    "mzw_plot_posterior_nodes(traces,['Cued','Uncued'])\n",
    "plt.xlabel('Boundary')\n",
    "plt.ylabel('Posterior probability')\n",
    "plt.title('Cueing effect')\n",
    "plt.savefig('Boundary Cueing Posterior probability.png',dpi=300,bbox_inches='tight')\n",
    "print('Significance:',((a_ebc.trace()+a_epc.trace()+a_hbc.trace()+a_hpc.trace()) > (a_ebu.trace()+a_epu.trace()+a_hbu.trace()+a_hpu.trace())).mean())"
   ]
  },
  {
   "cell_type": "markdown",
   "id": "429ed1ac-407c-4f19-9bf2-65c844555cbf",
   "metadata": {},
   "source": [
    "#### Task*Cueing"
   ]
  },
  {
   "cell_type": "code",
   "execution_count": null,
   "id": "570e635a-91bd-4bda-ad32-65d3be1ffc4f",
   "metadata": {},
   "outputs": [],
   "source": [
    "cued_trace=np.expand_dims(np.mean([(a_ebc.trace()-a_ebu.trace()),(a_epc.trace()-a_epu.trace())],axis=0),1)\n",
    "uncued_trace=np.expand_dims(np.mean([(a_hbc.trace()-a_hbu.trace()),(a_hpc.trace()-a_hpu.trace())],axis=0),1)\n",
    "\n",
    "traces=np.concatenate([cued_trace,uncued_trace],axis=1)\n",
    "mzw_plot_posterior_nodes(traces,['Easy','Hard'])\n",
    "plt.xlabel('Boundary')\n",
    "plt.ylabel('Cued - Uncued\\nPosterior probability')\n",
    "plt.title('Task difficulty*Cueing')\n",
    "plt.savefig('Boundary Task-Cueing Posterior probability.png',dpi=300,bbox_inches='tight')\n",
    "print('Significance:',((a_ebc.trace()-a_ebu.trace()+a_epc.trace()-a_epu.trace()) < (a_hbc.trace()-a_hbu.trace()+a_hpc.trace()-a_hpu.trace())).mean())"
   ]
  },
  {
   "cell_type": "markdown",
   "id": "4b7d3b9f-8d09-46a7-99f8-49766b6995dd",
   "metadata": {
    "tags": []
   },
   "source": [
    "#### Central*Cueing"
   ]
  },
  {
   "cell_type": "code",
   "execution_count": null,
   "id": "7ee03f45-4b82-4b56-8b7a-409821f4b638",
   "metadata": {},
   "outputs": [],
   "source": [
    "cued_trace=np.expand_dims(np.mean([(a_ebc.trace()-a_ebu.trace()),(a_hbc.trace()-a_hbu.trace())],axis=0),1)\n",
    "uncued_trace=np.expand_dims(np.mean([(a_epc.trace()-a_epu.trace()),(a_hpc.trace()-a_hpu.trace())],axis=0),1)\n",
    "\n",
    "traces=np.concatenate([cued_trace,uncued_trace],axis=1)\n",
    "mzw_plot_posterior_nodes(traces,['Absent','Present'])\n",
    "plt.xlabel('Boundary')\n",
    "plt.ylabel('Cued - Uncued\\nPosterior probability')\n",
    "plt.title('Central Fixation*Cueing')\n",
    "plt.savefig('Boundary Central-Cueing Posterior probability.png',dpi=300,bbox_inches='tight')\n",
    "print('Significance:',((a_ebc.trace()-a_ebu.trace()+a_hbc.trace()-a_hbu.trace()) < (a_epc.trace()-a_epu.trace()+a_hpc.trace()-a_hpu.trace())).mean())"
   ]
  },
  {
   "cell_type": "markdown",
   "id": "cee17b41-97ac-4243-bedd-1479329d1953",
   "metadata": {
    "tags": []
   },
   "source": [
    "#### Task * Central * Cueing"
   ]
  },
  {
   "cell_type": "code",
   "execution_count": null,
   "id": "749318b2-2f64-4428-b0c2-c2712725f352",
   "metadata": {},
   "outputs": [],
   "source": [
    "ea=np.expand_dims(np.mean([(a_ebc.trace()-a_ebu.trace())],axis=0),1)\n",
    "ep=np.expand_dims(np.mean([(a_epc.trace()-a_epu.trace())],axis=0),1)\n",
    "ha=np.expand_dims(np.mean([(a_hbc.trace()-a_hbu.trace())],axis=0),1)\n",
    "hp=np.expand_dims(np.mean([(a_hpc.trace()-a_hpu.trace())],axis=0),1)\n",
    "\n",
    "traces=np.concatenate([ea,ep,ha,hp],axis=1)\n",
    "mzw_plot_posterior_nodes(traces,['Easy-Absent','Easy-Present','Hard-Absent','Hard-present'])\n",
    "plt.xlabel('Boundary')\n",
    "plt.ylabel('Cued - Uncued\\nPosterior probability')\n",
    "plt.title('Task difficulty*Central Fixation*Cueing')\n",
    "plt.savefig('Boundary Task-Central-Cueing Posterior probability.png',dpi=300,bbox_inches='tight')\n",
    "#print('Significance:',((a_ebc.trace()-a_ebu.trace()+a_hbc.trace()-a_hbu.trace()) < (a_epc.trace()-a_epu.trace()+a_hpc.trace()-a_hpu.trace())).mean())"
   ]
  }
 ],
 "metadata": {
  "kernelspec": {
   "display_name": "Python 3 (ipykernel)",
   "language": "python",
   "name": "python3"
  },
  "language_info": {
   "codemirror_mode": {
    "name": "ipython",
    "version": 3
   },
   "file_extension": ".py",
   "mimetype": "text/x-python",
   "name": "python",
   "nbconvert_exporter": "python",
   "pygments_lexer": "ipython3",
   "version": "3.8.13"
  }
 },
 "nbformat": 4,
 "nbformat_minor": 5
}
