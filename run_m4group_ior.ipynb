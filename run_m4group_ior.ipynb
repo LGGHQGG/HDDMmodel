{
 "cells": [
  {
   "cell_type": "markdown",
   "id": "e6f3d2a0-7377-42b0-9c6a-524ec82967b6",
   "metadata": {},
   "source": [
    "# Load package"
   ]
  },
  {
   "cell_type": "code",
   "execution_count": 1,
   "id": "1867a5c9-ea8a-486f-8bdf-bb89b0b708b8",
   "metadata": {},
   "outputs": [
    {
     "name": "stdout",
     "output_type": "stream",
     "text": [
      "The current HDDM version is:  0.9.8RC\n",
      "The current kabuki version is:  0.6.5RC3\n",
      "The current PyMC version is:  2.3.8\n",
      "The current ArviZ version is:  0.14.0\n"
     ]
    }
   ],
   "source": [
    "%matplotlib inline\n",
    "\n",
    "# General packages for system, time, etc\n",
    "import os, time, csv, sys\n",
    "import datetime\n",
    "from datetime import date\n",
    "import glob\n",
    "\n",
    "# scitnific computing and plotting\n",
    "import numpy as np\n",
    "import pandas as pd\n",
    "import xarray as xr\n",
    "import matplotlib.pyplot as plt\n",
    "import seaborn as sns\n",
    "\n",
    "# HDDM related packages\n",
    "import pymc as pm\n",
    "import hddm\n",
    "import kabuki\n",
    "import arviz as az\n",
    "print(\"The current HDDM version is: \", hddm.__version__)\n",
    "print(\"The current kabuki version is: \", kabuki.__version__)\n",
    "print(\"The current PyMC version is: \", pm.__version__)\n",
    "print(\"The current ArviZ version is: \", az.__version__)\n",
    "\n",
    "# parallel processing related\n",
    "from p_tqdm import p_map\n",
    "from functools import partial\n",
    "\n",
    "from sklearn.metrics import r2_score"
   ]
  },
  {
   "cell_type": "markdown",
   "id": "ae3648f3-7725-42f2-80b3-c2fdcbe2d616",
   "metadata": {},
   "source": [
    "# Load data"
   ]
  },
  {
   "cell_type": "code",
   "execution_count": 2,
   "id": "a121f1e5-46ca-4bd6-a168-da92d7923c06",
   "metadata": {},
   "outputs": [],
   "source": [
    "cpath=os.getcwd()\n",
    "lname=cpath+'/ior_stroop_alldata.csv'\n",
    "data=pd.read_csv(lname)\n",
    "data['rt']=data['rt']/1000\n",
    "data.rename(columns={\"sub_idx\": \"subj_idx\"}, inplace=True)"
   ]
  },
  {
   "cell_type": "markdown",
   "id": "bd01fe58-cdab-40f1-b8d2-754d9b420e16",
   "metadata": {},
   "source": [
    "# Run model 4"
   ]
  },
  {
   "cell_type": "code",
   "execution_count": 3,
   "id": "f39c9da6-0fce-4a93-966a-4322334ff948",
   "metadata": {},
   "outputs": [],
   "source": [
    "from IOR_stroop_model_utils import m4_id"
   ]
  },
  {
   "cell_type": "code",
   "execution_count": 4,
   "id": "41f4b552-7e07-4c92-a096-90e84f2e155b",
   "metadata": {},
   "outputs": [],
   "source": [
    "nsample=10000\n",
    "burns=2000\n",
    "thins=2\n",
    "chains = 4"
   ]
  },
  {
   "cell_type": "code",
   "execution_count": null,
   "id": "da46cfb5-a67b-45c0-9d89-d1637da784db",
   "metadata": {},
   "outputs": [],
   "source": [
    "%%time\n",
    "\n",
    "file_names = glob.glob(\"m4_id_tmp\" + \"_chain_*[!db]\", recursive=False)\n",
    "\n",
    "if file_names:\n",
    "    file_names = sorted(file_names, key=lambda x: x[-1]) # sort filenames by chain ID\n",
    "    m1res = []\n",
    "    for fname in file_names:\n",
    "        print('current loading: ', fname, '\\n')\n",
    "        m1res.append(hddm.load(fname))\n",
    "else:\n",
    "    m1res = p_map(partial(m4_id, df=data, samples=nsample, burn=burns, thin=thins,save_name=\"m4_id_tmp\"), range(chains))"
   ]
  },
  {
   "cell_type": "code",
   "execution_count": null,
   "id": "3f3488c8-a6ac-4af4-b940-8987d5582250",
   "metadata": {},
   "outputs": [],
   "source": []
  },
  {
   "cell_type": "markdown",
   "id": "146de0a6-ac97-429f-a983-b9d68ad1e60c",
   "metadata": {
    "tags": []
   },
   "source": [
    "# 2.Load Model"
   ]
  },
  {
   "cell_type": "code",
   "execution_count": 6,
   "id": "ee644aad-2995-4a3d-9342-81e71aca27b9",
   "metadata": {},
   "outputs": [],
   "source": [
    "file_names = glob.glob(\"m4_id_tmp\" + \"_chain_*[!db]\", recursive=False)\n",
    "m4=[]\n",
    "for f in file_names:\n",
    "    m4.append(hddm.load(f))"
   ]
  },
  {
   "cell_type": "markdown",
   "id": "6fdfd08f-6585-402c-9b40-cb31286ae444",
   "metadata": {
    "tags": []
   },
   "source": [
    "# 3.Model convergence"
   ]
  },
  {
   "cell_type": "markdown",
   "id": "d2136064-d03b-49a1-87c8-ea1447258d85",
   "metadata": {},
   "source": [
    "#### R-hat 指标检查模型是否拟合好了，所有参数的R-hat<1.01 则表明模型拟合好了"
   ]
  },
  {
   "cell_type": "code",
   "execution_count": null,
   "id": "7c0766ef-39c3-42d7-b05c-d2c6be3c37bf",
   "metadata": {},
   "outputs": [],
   "source": [
    "from kabuki.analyze import gelman_rubin\n",
    "gelman_rubin(m4)"
   ]
  },
  {
   "cell_type": "code",
   "execution_count": 8,
   "id": "4bc74390-b733-4b74-bf55-4a600e9e7b71",
   "metadata": {},
   "outputs": [
    {
     "data": {
      "text/plain": [
       "1.0282019367636646"
      ]
     },
     "execution_count": 8,
     "metadata": {},
     "output_type": "execute_result"
    }
   ],
   "source": [
    "np.max(list(gelman_rubin(m4).values()))"
   ]
  },
  {
   "cell_type": "markdown",
   "id": "bd4b3e57-0c36-4fcf-811e-96bd651bb5ab",
   "metadata": {},
   "source": [
    "#### combine these three models to get a better approximation of the posterior distribution."
   ]
  },
  {
   "cell_type": "code",
   "execution_count": 9,
   "id": "688d72bf-b36f-4101-ab31-ae22c12db26e",
   "metadata": {},
   "outputs": [],
   "source": [
    "# Combine the models we ran to test for convergence.\n",
    "m = kabuki.utils.concat_models(m4)"
   ]
  },
  {
   "cell_type": "markdown",
   "id": "0cb4b8fe-0733-4110-a525-e4a551bfeedd",
   "metadata": {},
   "source": [
    "### visual trace"
   ]
  },
  {
   "cell_type": "code",
   "execution_count": null,
   "id": "32112a4d-69c8-4305-9537-4a876f57957d",
   "metadata": {},
   "outputs": [],
   "source": [
    "m.plot_posteriors(save=True)"
   ]
  },
  {
   "cell_type": "code",
   "execution_count": 10,
   "id": "91e94e83-513d-4d3c-8a4e-7536f62615ff",
   "metadata": {},
   "outputs": [
    {
     "data": {
      "text/plain": [
       "-20715.328133426767"
      ]
     },
     "execution_count": 10,
     "metadata": {},
     "output_type": "execute_result"
    }
   ],
   "source": [
    "m.dic"
   ]
  },
  {
   "cell_type": "code",
   "execution_count": null,
   "id": "b0bddf4e-a588-423e-a741-ebc9e7768425",
   "metadata": {},
   "outputs": [],
   "source": []
  }
 ],
 "metadata": {
  "kernelspec": {
   "display_name": "Python 3 (ipykernel)",
   "language": "python",
   "name": "python3"
  },
  "language_info": {
   "codemirror_mode": {
    "name": "ipython",
    "version": 3
   },
   "file_extension": ".py",
   "mimetype": "text/x-python",
   "name": "python",
   "nbconvert_exporter": "python",
   "pygments_lexer": "ipython3",
   "version": "3.8.13"
  }
 },
 "nbformat": 4,
 "nbformat_minor": 5
}
