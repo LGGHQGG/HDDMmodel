{
 "cells": [
  {
   "cell_type": "markdown",
   "id": "9bf16b35-9a48-4a43-9367-21bbafdc5d68",
   "metadata": {},
   "source": [
    "# Load package"
   ]
  },
  {
   "cell_type": "code",
   "execution_count": 1,
   "id": "125e4a55-2f1f-4652-b00b-15d3a05dc045",
   "metadata": {},
   "outputs": [
    {
     "name": "stdout",
     "output_type": "stream",
     "text": [
      "The current HDDM version is:  0.9.8RC\n",
      "The current kabuki version is:  0.6.5RC3\n",
      "The current PyMC version is:  2.3.8\n",
      "The current ArviZ version is:  0.14.0\n"
     ]
    }
   ],
   "source": [
    "%matplotlib inline\n",
    "\n",
    "# General packages for system, time, etc\n",
    "import os, time, csv, sys\n",
    "import datetime\n",
    "from datetime import date\n",
    "import glob\n",
    "\n",
    "# scitnific computing and plotting\n",
    "import numpy as np\n",
    "import pandas as pd\n",
    "import xarray as xr\n",
    "import matplotlib.pyplot as plt\n",
    "import seaborn as sns\n",
    "\n",
    "# HDDM related packages\n",
    "import pymc as pm\n",
    "import hddm\n",
    "import kabuki\n",
    "import arviz as az\n",
    "print(\"The current HDDM version is: \", hddm.__version__)\n",
    "print(\"The current kabuki version is: \", kabuki.__version__)\n",
    "print(\"The current PyMC version is: \", pm.__version__)\n",
    "print(\"The current ArviZ version is: \", az.__version__)\n",
    "\n",
    "# parallel processing related\n",
    "from p_tqdm import p_map\n",
    "from functools import partial\n",
    "\n",
    "from sklearn.metrics import r2_score"
   ]
  },
  {
   "cell_type": "markdown",
   "id": "498b8a09-7009-46b7-9868-d4576a9496c9",
   "metadata": {},
   "source": [
    "# Load data"
   ]
  },
  {
   "cell_type": "code",
   "execution_count": 2,
   "id": "4b2344c2-01f5-4d04-953b-8fc0ef4dbe78",
   "metadata": {},
   "outputs": [],
   "source": [
    "cpath=os.getcwd()\n",
    "lname=cpath+'/ior_stroop_alldata.csv'\n",
    "data=pd.read_csv(lname)\n",
    "data['rt']=data['rt']/1000\n",
    "data.rename(columns={\"sub_idx\": \"subj_idx\"}, inplace=True)"
   ]
  },
  {
   "cell_type": "markdown",
   "id": "8696285e-a5bc-474e-9126-4e5ae3d10028",
   "metadata": {},
   "source": [
    "# Run model 5"
   ]
  },
  {
   "cell_type": "code",
   "execution_count": 3,
   "id": "dbd07a5f-04c6-48db-8f35-10291d846550",
   "metadata": {},
   "outputs": [],
   "source": [
    "from IOR_stroop_model_utils import m5_id"
   ]
  },
  {
   "cell_type": "code",
   "execution_count": 4,
   "id": "0722dee2-df2a-45fb-b73f-4249e2010c9f",
   "metadata": {},
   "outputs": [],
   "source": [
    "nsample=10000\n",
    "burns=2000\n",
    "thins=2\n",
    "chains = 4"
   ]
  },
  {
   "cell_type": "code",
   "execution_count": null,
   "id": "4a654be7-c076-4124-8ceb-7f07cc04f6b6",
   "metadata": {},
   "outputs": [],
   "source": [
    "%%time\n",
    "\n",
    "file_names = glob.glob(\"m5_id_tmp\" + \"_chain_*[!db]\", recursive=False)\n",
    "\n",
    "if file_names:\n",
    "    file_names = sorted(file_names, key=lambda x: x[-1]) # sort filenames by chain ID\n",
    "    m1res = []\n",
    "    for fname in file_names:\n",
    "        print('current loading: ', fname, '\\n')\n",
    "        m1res.append(hddm.load(fname))\n",
    "else:\n",
    "    m1res = p_map(partial(m5_id, df=data, samples=nsample, burn=burns, thin=thins,save_name=\"m5_id_tmp\"), range(chains))"
   ]
  },
  {
   "cell_type": "code",
   "execution_count": null,
   "id": "a14a047f-7c0f-4850-9946-e2ee54e67874",
   "metadata": {},
   "outputs": [],
   "source": []
  },
  {
   "cell_type": "markdown",
   "id": "dcec6c6a-eb13-4e08-a3fe-f4be33f55edb",
   "metadata": {
    "tags": []
   },
   "source": [
    "# 2.Load Model"
   ]
  },
  {
   "cell_type": "code",
   "execution_count": 6,
   "id": "05c717f3-9ea6-4a09-989c-84887cf4a7c8",
   "metadata": {},
   "outputs": [],
   "source": [
    "file_names = glob.glob(\"m5_id_tmp\" + \"_chain_*[!db]\", recursive=False)\n",
    "m5=[]\n",
    "for f in file_names:\n",
    "    m5.append(hddm.load(f))"
   ]
  },
  {
   "cell_type": "markdown",
   "id": "f058369f-c6d0-46a6-b230-fb8639a7d456",
   "metadata": {
    "tags": []
   },
   "source": [
    "# 3.Model convergence"
   ]
  },
  {
   "cell_type": "markdown",
   "id": "a3d59e42-a02e-4310-9756-b74522fc223b",
   "metadata": {},
   "source": [
    "#### R-hat 指标检查模型是否拟合好了，所有参数的R-hat<1.01 则表明模型拟合好了"
   ]
  },
  {
   "cell_type": "code",
   "execution_count": null,
   "id": "7011777d-be07-4142-8731-525f680c9fc4",
   "metadata": {},
   "outputs": [],
   "source": [
    "from kabuki.analyze import gelman_rubin\n",
    "gelman_rubin(m5)"
   ]
  },
  {
   "cell_type": "code",
   "execution_count": 8,
   "id": "cea2bbad-d9f3-426a-a713-c4509503dacf",
   "metadata": {},
   "outputs": [
    {
     "data": {
      "text/plain": [
       "1.1017306836993268"
      ]
     },
     "execution_count": 8,
     "metadata": {},
     "output_type": "execute_result"
    }
   ],
   "source": [
    "np.max(list(gelman_rubin(m5).values()))"
   ]
  },
  {
   "cell_type": "markdown",
   "id": "b549f7df-e0bf-47f2-b526-e52b8bd0d001",
   "metadata": {},
   "source": [
    "#### combine these three models to get a better approximation of the posterior distribution."
   ]
  },
  {
   "cell_type": "code",
   "execution_count": 9,
   "id": "583df4cc-6e28-42bb-8fa5-0a473da0a3ac",
   "metadata": {},
   "outputs": [],
   "source": [
    "# Combine the models we ran to test for convergence.\n",
    "m = kabuki.utils.concat_models(m5)"
   ]
  },
  {
   "cell_type": "markdown",
   "id": "6dae87f5-3cea-4e87-aa2e-dafef41d7cb0",
   "metadata": {},
   "source": [
    "### visual trace"
   ]
  },
  {
   "cell_type": "code",
   "execution_count": null,
   "id": "b9fd4a76-9327-430e-8468-7ce5c523639c",
   "metadata": {},
   "outputs": [],
   "source": [
    "m.plot_posteriors(save=True)"
   ]
  },
  {
   "cell_type": "code",
   "execution_count": 10,
   "id": "4a22cc00-8475-44a5-ac37-42948ecca3fa",
   "metadata": {},
   "outputs": [
    {
     "data": {
      "text/plain": [
       "-20672.431042831122"
      ]
     },
     "execution_count": 10,
     "metadata": {},
     "output_type": "execute_result"
    }
   ],
   "source": [
    "m.dic"
   ]
  },
  {
   "cell_type": "code",
   "execution_count": null,
   "id": "1b91b6a7-d4a0-4fd1-95b1-154850e23da3",
   "metadata": {},
   "outputs": [],
   "source": []
  }
 ],
 "metadata": {
  "kernelspec": {
   "display_name": "Python 3 (ipykernel)",
   "language": "python",
   "name": "python3"
  },
  "language_info": {
   "codemirror_mode": {
    "name": "ipython",
    "version": 3
   },
   "file_extension": ".py",
   "mimetype": "text/x-python",
   "name": "python",
   "nbconvert_exporter": "python",
   "pygments_lexer": "ipython3",
   "version": "3.8.13"
  }
 },
 "nbformat": 4,
 "nbformat_minor": 5
}
